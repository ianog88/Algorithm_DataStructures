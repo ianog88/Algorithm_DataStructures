{
  "nbformat": 4,
  "nbformat_minor": 0,
  "metadata": {
    "colab": {
      "provenance": [],
      "authorship_tag": "ABX9TyPiV8nzG2cVTN/IeoJ9CeM3",
      "include_colab_link": true
    },
    "kernelspec": {
      "name": "python3",
      "display_name": "Python 3"
    },
    "language_info": {
      "name": "python"
    }
  },
  "cells": [
    {
      "cell_type": "markdown",
      "metadata": {
        "id": "view-in-github",
        "colab_type": "text"
      },
      "source": [
        "<a href=\"https://colab.research.google.com/github/ianog88/Algorithm_DataStructures/blob/main/algorithms_test.ipynb\" target=\"_parent\"><img src=\"https://colab.research.google.com/assets/colab-badge.svg\" alt=\"Open In Colab\"/></a>"
      ]
    },
    {
      "cell_type": "markdown",
      "source": [
        "#Algorithms Analysis\n",
        "Building common algorithms and performing efficiency comparisons\n",
        "\n",
        "*   Recursion\n",
        "*   Linear Search\n",
        "*   Binary Search\n",
        "*   Bubble Sort\n",
        "*   Insertion Sort\n",
        "*   Merge Sort\n",
        "\n",
        "\n",
        "\n",
        "\n",
        "\n"
      ],
      "metadata": {
        "id": "pgcJCBI9AelK"
      }
    },
    {
      "cell_type": "code",
      "execution_count": 2,
      "metadata": {
        "id": "vnAeWsUVt3Yi"
      },
      "outputs": [],
      "source": [
        "import pandas as pd\n",
        "import numpy as np\n",
        "import time\n",
        "import random"
      ]
    },
    {
      "cell_type": "markdown",
      "source": [
        "#Recursion\n",
        "*   Recusion involves a function calling itself\n",
        "*   No effect on time complexity\n",
        "*   More elegant program with less lines of code\n",
        "\n",
        "\n",
        "\n",
        "\n"
      ],
      "metadata": {
        "id": "CmQDLqi_u9lm"
      }
    },
    {
      "cell_type": "markdown",
      "source": [
        "Example of an iterative algorithm"
      ],
      "metadata": {
        "id": "bbqqhapGJB8J"
      }
    },
    {
      "cell_type": "code",
      "source": [
        "def factorial(n):\n",
        "  the_product = 1\n",
        "  while n > 0:\n",
        "    the_product *= n\n",
        "    n = n - 1\n",
        "  return the_product"
      ],
      "metadata": {
        "id": "nlvu27f7vRfu"
      },
      "execution_count": 7,
      "outputs": []
    },
    {
      "cell_type": "code",
      "source": [
        "factorial(3)"
      ],
      "metadata": {
        "colab": {
          "base_uri": "https://localhost:8080/"
        },
        "id": "qK_CWcbrv1U2",
        "outputId": "922e6bea-dff0-44cf-9f9c-3d17f7838cc0"
      },
      "execution_count": 8,
      "outputs": [
        {
          "output_type": "execute_result",
          "data": {
            "text/plain": [
              "6"
            ]
          },
          "metadata": {},
          "execution_count": 8
        }
      ]
    },
    {
      "cell_type": "markdown",
      "source": [
        "Identical algorithm but written recursively"
      ],
      "metadata": {
        "id": "WICWczxKJIBk"
      }
    },
    {
      "cell_type": "code",
      "source": [
        "def recursive(n):\n",
        "  if n == 0:\n",
        "    return 1\n",
        "  return n * factorial(n - 1)"
      ],
      "metadata": {
        "id": "EL6DDZ68v6Kw"
      },
      "execution_count": 1,
      "outputs": []
    },
    {
      "cell_type": "code",
      "source": [
        "recursive(3)"
      ],
      "metadata": {
        "colab": {
          "base_uri": "https://localhost:8080/"
        },
        "id": "URDM-xafwSU7",
        "outputId": "0e3cb2a4-2789-41fc-e8e2-b021b6561c6b"
      },
      "execution_count": 10,
      "outputs": [
        {
          "output_type": "execute_result",
          "data": {
            "text/plain": [
              "6"
            ]
          },
          "metadata": {},
          "execution_count": 10
        }
      ]
    },
    {
      "cell_type": "markdown",
      "source": [
        "#Search Algorithms\n",
        "\n"
      ],
      "metadata": {
        "id": "dGegNgfLwnRo"
      }
    },
    {
      "cell_type": "markdown",
      "source": [
        "##Linear Search\n",
        "*   time complexity is O(n)\n",
        "*   ideal when data is not sorted"
      ],
      "metadata": {
        "id": "138sN5FcCTE9"
      }
    },
    {
      "cell_type": "code",
      "source": [
        "def linear_search(numbers, n):\n",
        "  for i in numbers:\n",
        "    if i == n:\n",
        "      return True\n",
        "  return False"
      ],
      "metadata": {
        "id": "zaNxS1kWwUlN"
      },
      "execution_count": 41,
      "outputs": []
    },
    {
      "cell_type": "markdown",
      "source": [
        "##Binary Search\n",
        "\n",
        "\n",
        "*   Searches for an item by dividing the list in half\n",
        "*   Ideal for sorted lists\n",
        "*   O(log n) time\n",
        "\n",
        "\n",
        "\n",
        "\n"
      ],
      "metadata": {
        "id": "YbqbEGngyVRe"
      }
    },
    {
      "cell_type": "code",
      "source": [
        "def binary_search(a_list, n):\n",
        "  first = 0\n",
        "  last = len(numbers) - 1\n",
        "  while last >= first:\n",
        "    mid = (first + last) // 2\n",
        "    if numbers[mid] == n:\n",
        "      return True\n",
        "    else:\n",
        "      if n < numbers[mid]:\n",
        "        last = mid - 1\n",
        "      else:\n",
        "        first = mid + 1\n",
        "  return False"
      ],
      "metadata": {
        "id": "nKLczgdtw2em"
      },
      "execution_count": 40,
      "outputs": []
    },
    {
      "cell_type": "code",
      "source": [
        "numbers = []\n",
        "\n",
        "for i in range(1000):\n",
        "  numbers.append(i)"
      ],
      "metadata": {
        "id": "fZThDxlu2km1"
      },
      "execution_count": 56,
      "outputs": []
    },
    {
      "cell_type": "markdown",
      "source": [
        "###Linear Search vs Binary Search Speed Comparison"
      ],
      "metadata": {
        "id": "5S-h_3k2CXlH"
      }
    },
    {
      "cell_type": "code",
      "source": [
        "for i in range(10):\n",
        "\n",
        "  random_number = random.randint(0,1000)\n",
        "\n",
        "  linear_start = time.time()\n",
        "  linear_search(numbers, random_number)\n",
        "  linear_end = time.time()\n",
        "  linear_time = (linear_end - linear_start)\n",
        "\n",
        "  binary_start = time.time()\n",
        "  binary_search(numbers, random_number)\n",
        "  binary_end = time.time()\n",
        "  binary_time = (binary_end - binary_start)\n",
        "\n",
        "  if(linear_time < binary_time):\n",
        "    print(\"Linear Search was faster\")\n",
        "\n",
        "  else:\n",
        "    print(\"Binary Search was faster\")"
      ],
      "metadata": {
        "colab": {
          "base_uri": "https://localhost:8080/"
        },
        "id": "tstH9Ptv2sBp",
        "outputId": "863b3adb-f8e8-48c7-c778-43b47b7f9d59"
      },
      "execution_count": 108,
      "outputs": [
        {
          "output_type": "stream",
          "name": "stdout",
          "text": [
            "Binary Search was faster\n",
            "Linear Search was faster\n",
            "Linear Search was faster\n",
            "Binary Search was faster\n",
            "Binary Search was faster\n",
            "Binary Search was faster\n",
            "Binary Search was faster\n",
            "Binary Search was faster\n",
            "Binary Search was faster\n",
            "Binary Search was faster\n"
          ]
        }
      ]
    },
    {
      "cell_type": "markdown",
      "source": [
        "#Sorting Algorithms"
      ],
      "metadata": {
        "id": "KO5bVNw54dyh"
      }
    },
    {
      "cell_type": "markdown",
      "source": [
        "##Bubble Sort\n",
        "\n",
        "\n",
        "*   Time Complexity O(n**2)\n",
        "*   Not efficient for larger datasets\n",
        "\n"
      ],
      "metadata": {
        "id": "O3Xuat5g6MMm"
      }
    },
    {
      "cell_type": "code",
      "source": [
        "def bubble_sort(a_list):\n",
        "  list_length = len(a_list) - 1\n",
        "  for i in range(list_length):\n",
        "    no_swaps = True\n",
        "    for j in range(list_length):\n",
        "      if a_list[j] > a_list[j + 1]:\n",
        "        a_list[j], a_list[j + 1] = a_list[j + 1], a_list[j]\n",
        "        no_swaps = False\n",
        "    if no_swaps:\n",
        "      return a_list\n",
        "  return a_list"
      ],
      "metadata": {
        "id": "PMuwXBMx3d6-"
      },
      "execution_count": 82,
      "outputs": []
    },
    {
      "cell_type": "code",
      "source": [
        "a_list = [1, 6, 3, 7, 8, 1, 2]"
      ],
      "metadata": {
        "id": "xUUfspGJ6cBW"
      },
      "execution_count": 85,
      "outputs": []
    },
    {
      "cell_type": "code",
      "source": [
        "bubble_sort(a_list)"
      ],
      "metadata": {
        "colab": {
          "base_uri": "https://localhost:8080/"
        },
        "id": "PulmCuFG6fZf",
        "outputId": "e93a2222-c7f0-4a3a-e3d0-fdd767938162"
      },
      "execution_count": 86,
      "outputs": [
        {
          "output_type": "execute_result",
          "data": {
            "text/plain": [
              "[1, 1, 2, 3, 6, 7, 8]"
            ]
          },
          "metadata": {},
          "execution_count": 86
        }
      ]
    },
    {
      "cell_type": "markdown",
      "source": [
        "##Insertion Sort\n",
        "*   Time Complexity O(n**2)\n",
        "\n",
        "\n"
      ],
      "metadata": {
        "id": "ob91mmWZ8hzi"
      }
    },
    {
      "cell_type": "code",
      "source": [
        "def insertion_sort(a_list):\n",
        "  for i in range(1, len(a_list)):\n",
        "    value = a_list[i]\n",
        "    while i > 0 and a_list[i - 1] > value:\n",
        "      a_list[i] = a_list[i - 1]\n",
        "      i = i -1\n",
        "    a_list[i] = value\n",
        "  return a_list"
      ],
      "metadata": {
        "id": "OU0fei-a6pg-"
      },
      "execution_count": 88,
      "outputs": []
    },
    {
      "cell_type": "code",
      "source": [
        "insertion_sort(a_list)"
      ],
      "metadata": {
        "colab": {
          "base_uri": "https://localhost:8080/"
        },
        "id": "fFiIsOjv7-pQ",
        "outputId": "16b3cd34-4ccc-448e-fa7c-9d96ba0dd8ba"
      },
      "execution_count": 89,
      "outputs": [
        {
          "output_type": "execute_result",
          "data": {
            "text/plain": [
              "[1, 1, 2, 3, 6, 7, 8]"
            ]
          },
          "metadata": {},
          "execution_count": 89
        }
      ]
    },
    {
      "cell_type": "markdown",
      "source": [
        "###Bubble Sort vs Insertion Sort Speed Comparison"
      ],
      "metadata": {
        "id": "L81Y2kSf-JjM"
      }
    },
    {
      "cell_type": "code",
      "source": [
        "for i in range(10):\n",
        "  random_list = []\n",
        "  for i in range(1000):\n",
        "    random_list.append(random.randint(0,1000))\n",
        "\n",
        "  b_start = time.time()\n",
        "  bubble_sort(random_list)\n",
        "  b_end = time.time()\n",
        "  bubble_time = (b_end - b_start)\n",
        "\n",
        "  i_start = time.time()\n",
        "  insertion_sort(random_list)\n",
        "  i_end = time.time()\n",
        "  insertion_time = (i_end - i_start)\n",
        "\n",
        "  if(bubble_time < insertion_time):\n",
        "    print(\"Bubble Sort was faster\")\n",
        "\n",
        "  else:\n",
        "    print(\"Insertion Sort was faster\")"
      ],
      "metadata": {
        "colab": {
          "base_uri": "https://localhost:8080/"
        },
        "id": "woZEesy18TBe",
        "outputId": "af2ae9af-7961-4392-92fb-cd5e2b1667e1"
      },
      "execution_count": 96,
      "outputs": [
        {
          "output_type": "stream",
          "name": "stdout",
          "text": [
            "Insertion Sort was faster\n",
            "Insertion Sort was faster\n",
            "Insertion Sort was faster\n",
            "Insertion Sort was faster\n",
            "Insertion Sort was faster\n",
            "Insertion Sort was faster\n",
            "Insertion Sort was faster\n",
            "Insertion Sort was faster\n",
            "Insertion Sort was faster\n",
            "Insertion Sort was faster\n"
          ]
        }
      ]
    },
    {
      "cell_type": "markdown",
      "source": [
        "##Merge Sort\n",
        "\n",
        "\n",
        "\n",
        "\n",
        "*   example of a divide-and-conquer algorithm\n",
        "*   O(n * log n)\n",
        "\n",
        "\n",
        "\n"
      ],
      "metadata": {
        "id": "2t_fPK0q-VG7"
      }
    },
    {
      "cell_type": "code",
      "source": [
        "def merge_sort(a_list):\n",
        "  if len(a_list) > 1:\n",
        "    mid = len(a_list) // 2\n",
        "    left_half = a_list[:mid]\n",
        "    right_half = a_list[mid:]\n",
        "    merge_sort(left_half)\n",
        "    merge_sort(right_half)\n",
        "\n",
        "    left_ind = 0\n",
        "    right_ind = 0\n",
        "    alist_ind = 0\n",
        "    while left_ind < len(left_half) and right_ind < len(right_half):\n",
        "      if left_half[left_ind] <= right_half[right_ind]:\n",
        "        a_list[alist_ind] = left_half[left_ind]\n",
        "        left_ind += 1\n",
        "      else:\n",
        "        a_list[alist_ind] = right_half[right_ind]\n",
        "        right_ind += 1\n",
        "      alist_ind += 1\n",
        "\n",
        "    while left_ind < len(left_half):\n",
        "      a_list[alist_ind]=left_half[left_ind]\n",
        "      left_ind += 1\n",
        "      alist_ind += 1\n",
        "\n",
        "    while right_ind < len(right_half):\n",
        "      a_list[alist_ind]= right_half[right_ind]\n",
        "      right_ind += 1\n",
        "      alist_ind += 1\n",
        "  return a_list"
      ],
      "metadata": {
        "id": "bYBznjtO90kI"
      },
      "execution_count": 102,
      "outputs": []
    },
    {
      "cell_type": "markdown",
      "source": [
        "###Merge Sort vs Insertion Sort speed comparison"
      ],
      "metadata": {
        "id": "YruEknr6__9C"
      }
    },
    {
      "cell_type": "code",
      "source": [
        "for i in range(10):\n",
        "  random_list = []\n",
        "  for i in range(1000):\n",
        "    random_list.append(random.randint(0,1000))\n",
        "\n",
        "  i_start = time.time()\n",
        "  insertion_sort(random_list)\n",
        "  i_end = time.time()\n",
        "  insertion_time = (i_end - i_start)\n",
        "\n",
        "  m_start = time.time()\n",
        "  merge_sort(random_list)\n",
        "  m_end = time.time()\n",
        "  merge_time = (m_end - m_start)\n",
        "\n",
        "  if(insertion_time < merge_time):\n",
        "    print(\"Insertion Sort was faster\")\n",
        "\n",
        "  else:\n",
        "    print(\"Merge Sort was faster\")"
      ],
      "metadata": {
        "colab": {
          "base_uri": "https://localhost:8080/"
        },
        "id": "bAz8gO9t_vnp",
        "outputId": "be1deb99-97a4-407a-c862-cc265124ca19"
      },
      "execution_count": 106,
      "outputs": [
        {
          "output_type": "stream",
          "name": "stdout",
          "text": [
            "Merge Sort was faster\n",
            "Merge Sort was faster\n",
            "Merge Sort was faster\n",
            "Merge Sort was faster\n",
            "Merge Sort was faster\n",
            "Merge Sort was faster\n",
            "Merge Sort was faster\n",
            "Merge Sort was faster\n",
            "Merge Sort was faster\n",
            "Merge Sort was faster\n"
          ]
        }
      ]
    },
    {
      "cell_type": "markdown",
      "source": [
        "###Merge Sort vs Timsort (python's built in sorting algorithm)\n",
        "\n",
        "Timsort is a hybrid sorting algorithm that combines merge sort and insertion sort"
      ],
      "metadata": {
        "id": "YjE45p_gBdmn"
      }
    },
    {
      "cell_type": "code",
      "source": [
        "for i in range(10):\n",
        "  random_list = []\n",
        "  for i in range(1000):\n",
        "    random_list.append(random.randint(0,1000))\n",
        "\n",
        "  p_start = time.time()\n",
        "  sorted(random_list)\n",
        "  p_end = time.time()\n",
        "  timsort_time = (p_end - p_start)\n",
        "\n",
        "  m_start = time.time()\n",
        "  merge_sort(random_list)\n",
        "  m_end = time.time()\n",
        "  merge_time = (m_end - m_start)\n",
        "\n",
        "  if(timsort_time < merge_time):\n",
        "    print(\"Timsort was faster\")\n",
        "\n",
        "  else:\n",
        "    print(\"Merge Sort was faster\")"
      ],
      "metadata": {
        "colab": {
          "base_uri": "https://localhost:8080/"
        },
        "id": "SMAUBOzR_-ZY",
        "outputId": "fd90b948-e49c-4d0d-bca8-9109e11c70ee"
      },
      "execution_count": 107,
      "outputs": [
        {
          "output_type": "stream",
          "name": "stdout",
          "text": [
            "Timsort was faster\n",
            "Timsort was faster\n",
            "Timsort was faster\n",
            "Timsort was faster\n",
            "Timsort was faster\n",
            "Timsort was faster\n",
            "Timsort was faster\n",
            "Timsort was faster\n",
            "Timsort was faster\n",
            "Timsort was faster\n"
          ]
        }
      ]
    },
    {
      "cell_type": "code",
      "source": [],
      "metadata": {
        "id": "4pV0bXs_UFil"
      },
      "execution_count": null,
      "outputs": []
    }
  ]
}